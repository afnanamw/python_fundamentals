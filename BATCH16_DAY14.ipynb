{
 "cells": [
  {
   "cell_type": "code",
   "execution_count": null,
   "metadata": {},
   "outputs": [],
   "source": [
    "Return values of functions:"
   ]
  },
  {
   "cell_type": "code",
   "execution_count": 21,
   "metadata": {},
   "outputs": [],
   "source": [
    "def get_formatted_name(first_name,last_name):#defining a function with  2 parameters\n",
    "    \n",
    "    \"\"\"Return a fullname,neatly formatted\"\"\"\n",
    "    \n",
    "    fullname=f\"{first_name} {last_name}\"  #variable inside a function\n",
    "    \n",
    "    return(fullname.title()) #return method using\n",
    "\n",
    "\n",
    "\n",
    "\n",
    "\n",
    "    "
   ]
  },
  {
   "cell_type": "code",
   "execution_count": 22,
   "metadata": {},
   "outputs": [
    {
     "name": "stdout",
     "output_type": "stream",
     "text": [
      "Monish Kumar\n"
     ]
    }
   ],
   "source": [
    "student=get_formatted_name ('monish', 'kumar')\n",
    "\n",
    "print(student)"
   ]
  },
  {
   "cell_type": "code",
   "execution_count": 24,
   "metadata": {},
   "outputs": [
    {
     "name": "stdout",
     "output_type": "stream",
     "text": [
      "Uruss Shah\n"
     ]
    }
   ],
   "source": [
    "student2=get_formatted_name ('uruss', 'shah')\n",
    "\n",
    "\n",
    "print(student2)"
   ]
  },
  {
   "cell_type": "code",
   "execution_count": null,
   "metadata": {},
   "outputs": [],
   "source": [
    "what is the use of return values in a function?\n",
    "\n",
    "Ans..To control the output display return values are used.\n",
    "\n",
    "Returning a Dictionary:"
   ]
  },
  {
   "cell_type": "code",
   "execution_count": 31,
   "metadata": {},
   "outputs": [],
   "source": [
    "def define_person(first_name,last_name,age,location,pincode):\n",
    "    \n",
    "    \n",
    "    \"\"\"Return a dictionary of information about a person\"\"\"\n",
    "    \n",
    "    \n",
    "    person={'first':first_name,'last':last_name,'old':age,'geo location':location,'pin':pincode}\n",
    "    \n",
    "    return(person) #dict obj has no  attribute title()\n",
    "\n",
    "    \n",
    "    \n",
    "    \n",
    "    \n",
    "    \n",
    "    \n",
    "    \n",
    "    \n",
    "    \n",
    "\n"
   ]
  },
  {
   "cell_type": "code",
   "execution_count": 32,
   "metadata": {},
   "outputs": [
    {
     "name": "stdout",
     "output_type": "stream",
     "text": [
      "{'first': 'afnan', 'last': 'mushtaq', 'old': 25, 'geo location': 'peerbagh', 'pin': 190014}\n"
     ]
    }
   ],
   "source": [
    "student3=define_person('afnan','mushtaq',25,'peerbagh',190014)\n",
    "\n",
    "\n",
    "print(student3)"
   ]
  },
  {
   "cell_type": "code",
   "execution_count": null,
   "metadata": {},
   "outputs": [],
   "source": [
    "Passing a list to the function:-\n",
    "\n",
    "    \n",
    "Required-------> Want to congratulate them for practicing regularly,with the use of function.    "
   ]
  },
  {
   "cell_type": "code",
   "execution_count": 33,
   "metadata": {},
   "outputs": [
    {
     "name": "stdout",
     "output_type": "stream",
     "text": [
      "['afnan', 'uruss', 'zaid', 'arfa', 'zayn', 'zara', 'minnat']\n"
     ]
    }
   ],
   "source": [
    "students=['afnan','uruss','zaid','arfa','zayn','zara','minnat']\n",
    "\n",
    "print(students)"
   ]
  },
  {
   "cell_type": "code",
   "execution_count": 38,
   "metadata": {},
   "outputs": [],
   "source": [
    "def greet_students(names):\n",
    "    \n",
    "    \n",
    "    \n",
    "    \"\"\"Congratulations all the students who are practicing regularly\"\"\"\n",
    "    \n",
    "    \n",
    "    for x in names:\n",
    "        \n",
    "        message=f\" keep up the good work,{x.title()}\\n\"\n",
    "        \n",
    "        \n",
    "        print(message)\n",
    "\n",
    "\n",
    "\n",
    "\n"
   ]
  },
  {
   "cell_type": "code",
   "execution_count": 39,
   "metadata": {},
   "outputs": [
    {
     "name": "stdout",
     "output_type": "stream",
     "text": [
      " keep up the good work,Afnan\n",
      "\n",
      " keep up the good work,Uruss\n",
      "\n",
      " keep up the good work,Zaid\n",
      "\n",
      " keep up the good work,Arfa\n",
      "\n",
      " keep up the good work,Zayn\n",
      "\n",
      " keep up the good work,Zara\n",
      "\n",
      " keep up the good work,Minnat\n",
      "\n"
     ]
    }
   ],
   "source": [
    "greet_students(students)"
   ]
  },
  {
   "cell_type": "code",
   "execution_count": null,
   "metadata": {},
   "outputs": [],
   "source": []
  }
 ],
 "metadata": {
  "kernelspec": {
   "display_name": "Python 3",
   "language": "python",
   "name": "python3"
  },
  "language_info": {
   "codemirror_mode": {
    "name": "ipython",
    "version": 3
   },
   "file_extension": ".py",
   "mimetype": "text/x-python",
   "name": "python",
   "nbconvert_exporter": "python",
   "pygments_lexer": "ipython3",
   "version": "3.7.6"
  }
 },
 "nbformat": 4,
 "nbformat_minor": 4
}
