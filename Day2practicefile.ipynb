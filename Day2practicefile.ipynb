{
 "cells": [
  {
   "cell_type": "code",
   "execution_count": null,
   "metadata": {},
   "outputs": [],
   "source": [
    "Dictionaty data types:\n",
    " ----->Mutable Data types.\n",
    "------>Collection of key value pairs."
   ]
  },
  {
   "cell_type": "code",
   "execution_count": 1,
   "metadata": {},
   "outputs": [
    {
     "name": "stdout",
     "output_type": "stream",
     "text": [
      "{'username': 'sergiomacquina', 'password': 12345, 'first_name': 'sergio', 'last_name': 'macquina', 'dob': 2841994}\n"
     ]
    }
   ],
   "source": [
    "useraccount={'username':'sergiomacquina','password':12345,'first_name':'sergio','last_name':'macquina','dob':2841994}\n",
    "\n",
    "\n",
    "print(useraccount)"
   ]
  },
  {
   "cell_type": "code",
   "execution_count": 2,
   "metadata": {},
   "outputs": [
    {
     "data": {
      "text/plain": [
       "dict"
      ]
     },
     "execution_count": 2,
     "metadata": {},
     "output_type": "execute_result"
    }
   ],
   "source": [
    "type(useraccount)"
   ]
  },
  {
   "cell_type": "code",
   "execution_count": null,
   "metadata": {},
   "outputs": [],
   "source": [
    "How to  access,modify and delete values from a dictionary?"
   ]
  },
  {
   "cell_type": "code",
   "execution_count": 3,
   "metadata": {},
   "outputs": [
    {
     "name": "stdout",
     "output_type": "stream",
     "text": [
      "sergio\n"
     ]
    }
   ],
   "source": [
    "print(useraccount['first_name'])#keys to  access the values\n"
   ]
  },
  {
   "cell_type": "code",
   "execution_count": 4,
   "metadata": {},
   "outputs": [
    {
     "name": "stdout",
     "output_type": "stream",
     "text": [
      "{'username': 'sergiomacquina', 'password': 54321, 'first_name': 'sergio', 'last_name': 'macquina', 'dob': 2841994}\n"
     ]
    }
   ],
   "source": [
    "useraccount ['password']=54321\n",
    "\n",
    "print(useraccount)"
   ]
  },
  {
   "cell_type": "code",
   "execution_count": 6,
   "metadata": {},
   "outputs": [
    {
     "name": "stdout",
     "output_type": "stream",
     "text": [
      "{'username': 'sergiomacquina', 'password': 54321, 'first_name': 'sergio', 'dob': 2841994}\n"
     ]
    }
   ],
   "source": [
    "del useraccount ['last_name']\n",
    "\n",
    "print(useraccount)"
   ]
  },
  {
   "cell_type": "markdown",
   "metadata": {},
   "source": []
  },
  {
   "cell_type": "code",
   "execution_count": null,
   "metadata": {},
   "outputs": [],
   "source": [
    "Modifying the key value  pairs:"
   ]
  },
  {
   "cell_type": "code",
   "execution_count": 7,
   "metadata": {},
   "outputs": [
    {
     "name": "stdout",
     "output_type": "stream",
     "text": [
      "{'colour': 'green', 'points': 8, 'occupation': 'shephard', 'livestock': 55}\n"
     ]
    }
   ],
   "source": [
    "alien={'colour':'green','points':8,'occupation':'shephard','livestock':55 }\n",
    "print(alien)\n"
   ]
  },
  {
   "cell_type": "code",
   "execution_count": 9,
   "metadata": {},
   "outputs": [
    {
     "name": "stdout",
     "output_type": "stream",
     "text": [
      "{'colour': 'green', 'points': 8, 'occupation': 'shephard', 'livestock': 55, 'x_position': 0, 'y_position': 35}\n"
     ]
    }
   ],
   "source": [
    "alien['x_position']=0\n",
    "\n",
    "alien['y_position']=35\n",
    "\n",
    "print(alien)"
   ]
  },
  {
   "cell_type": "code",
   "execution_count": 10,
   "metadata": {},
   "outputs": [
    {
     "name": "stdout",
     "output_type": "stream",
     "text": [
      "{'colour': 'green', 'points': 8, 'occupation': 'shephard', 'livestock': 55, 'y_position': 35}\n",
      "{'colour': 'green', 'occupation': 'shephard', 'livestock': 55, 'y_position': 35}\n"
     ]
    }
   ],
   "source": [
    "del alien['x_position']\n",
    "\n",
    "\n",
    "print(alien)\n",
    "\n",
    "\n",
    "alien.pop('points')\n",
    "\n",
    "print(alien)\n"
   ]
  },
  {
   "cell_type": "code",
   "execution_count": 12,
   "metadata": {},
   "outputs": [
    {
     "data": {
      "text/plain": [
       "35"
      ]
     },
     "execution_count": 12,
     "metadata": {},
     "output_type": "execute_result"
    }
   ],
   "source": [
    "alien.pop('y_position')"
   ]
  },
  {
   "cell_type": "code",
   "execution_count": 13,
   "metadata": {},
   "outputs": [
    {
     "name": "stdout",
     "output_type": "stream",
     "text": [
      "{'colour': 'green', 'occupation': 'shephard', 'livestock': 55}\n"
     ]
    }
   ],
   "source": [
    "print(alien)"
   ]
  },
  {
   "cell_type": "code",
   "execution_count": null,
   "metadata": {},
   "outputs": [],
   "source": [
    "Introduction to for loops in dictionary data types:"
   ]
  },
  {
   "cell_type": "code",
   "execution_count": 14,
   "metadata": {},
   "outputs": [
    {
     "name": "stdout",
     "output_type": "stream",
     "text": [
      "username\n",
      "sergiomacquina\n",
      "password\n",
      "54321\n",
      "first_name\n",
      "sergio\n",
      "dob\n",
      "2841994\n"
     ]
    }
   ],
   "source": [
    "for x,y in useraccount.items():#these methods are just like formulas\n",
    "    print(x)#for key value pairs.items()\n",
    "    print(y)"
   ]
  },
  {
   "cell_type": "code",
   "execution_count": 15,
   "metadata": {},
   "outputs": [
    {
     "name": "stdout",
     "output_type": "stream",
     "text": [
      "username\n",
      "password\n",
      "first_name\n",
      "dob\n"
     ]
    }
   ],
   "source": [
    "for x in useraccount.keys():\n",
    "    \n",
    "    \n",
    "    print(x) #for keys.keys()  \n",
    "\n"
   ]
  },
  {
   "cell_type": "code",
   "execution_count": 18,
   "metadata": {},
   "outputs": [
    {
     "name": "stdout",
     "output_type": "stream",
     "text": [
      "sergiomacquina\n",
      "54321\n",
      "sergio\n",
      "2841994\n"
     ]
    }
   ],
   "source": [
    "for y in useraccount.values():\n",
    "    \n",
    "    \n",
    "    print(y) #for values.value()\n",
    "    \n",
    "    \n",
    "\n"
   ]
  },
  {
   "cell_type": "code",
   "execution_count": null,
   "metadata": {},
   "outputs": [],
   "source": []
  }
 ],
 "metadata": {
  "kernelspec": {
   "display_name": "Python 3",
   "language": "python",
   "name": "python3"
  },
  "language_info": {
   "codemirror_mode": {
    "name": "ipython",
    "version": 3
   },
   "file_extension": ".py",
   "mimetype": "text/x-python",
   "name": "python",
   "nbconvert_exporter": "python",
   "pygments_lexer": "ipython3",
   "version": "3.7.6"
  }
 },
 "nbformat": 4,
 "nbformat_minor": 4
}
