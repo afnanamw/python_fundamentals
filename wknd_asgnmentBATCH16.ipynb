{
 "cells": [
  {
   "cell_type": "code",
   "execution_count": 22,
   "metadata": {},
   "outputs": [],
   "source": [
    "def make_shirt(size,text):\n",
    "    \"\"\"To display the size and text written on a tshirt\"\"\"\n",
    "    \n",
    "    print(f\" I have a {size} sized tshirt \\n\")\n",
    "    print(f\" I designed my tshirt while printing {text} on it\")\n",
    "    \n",
    "    \n",
    "    "
   ]
  },
  {
   "cell_type": "code",
   "execution_count": 2,
   "metadata": {},
   "outputs": [
    {
     "name": "stdout",
     "output_type": "stream",
     "text": [
      " I have a small sized tshirt \n",
      "\n",
      " I designed my tshirt while printing I love animals on it\n"
     ]
    }
   ],
   "source": [
    "make_shirt('small','I love animals') #positional arg"
   ]
  },
  {
   "cell_type": "code",
   "execution_count": 3,
   "metadata": {},
   "outputs": [
    {
     "name": "stdout",
     "output_type": "stream",
     "text": [
      " I have a medium sized tshirt \n",
      "\n",
      " I designed my tshirt while printing I am god fearing on it\n"
     ]
    }
   ],
   "source": [
    "make_shirt(text='I am god fearing',size='medium')  #keyword arg"
   ]
  },
  {
   "cell_type": "code",
   "execution_count": 14,
   "metadata": {},
   "outputs": [],
   "source": [
    "def make_shirt(text,size='large'):#default arg with large by default\n",
    "    print(text,'is written on my shirt\\n')\n",
    "    print(size,'is the size of my shirt')\n",
    "    \n",
    "    \n",
    "    \n"
   ]
  },
  {
   "cell_type": "code",
   "execution_count": 15,
   "metadata": {},
   "outputs": [
    {
     "name": "stdout",
     "output_type": "stream",
     "text": [
      "I love python is written on my shirt\n",
      "\n",
      "large is the size of my shirt\n"
     ]
    }
   ],
   "source": [
    "make_shirt('I love python')"
   ]
  },
  {
   "cell_type": "code",
   "execution_count": 16,
   "metadata": {},
   "outputs": [],
   "source": [
    "def make_shirt(text,size='extra large'):#shirt of any  size with a different message\n",
    "    print(text,'is written on my shirt\\n')\n",
    "    print(size,'is the size of my shirt')\n",
    "    "
   ]
  },
  {
   "cell_type": "code",
   "execution_count": 17,
   "metadata": {},
   "outputs": [
    {
     "name": "stdout",
     "output_type": "stream",
     "text": [
      "I love to  attend python classes with fayaz is written on my shirt\n",
      "\n",
      "extra large is the size of my shirt\n"
     ]
    }
   ],
   "source": [
    "make_shirt('I love to  attend python classes with fayaz')"
   ]
  },
  {
   "cell_type": "code",
   "execution_count": 19,
   "metadata": {},
   "outputs": [],
   "source": [
    "def make_shirt(size,text='I love myself'):#large shirt  with a default message\n",
    "    print(size,'is the size of my shirt\\n')\n",
    "    print(text,'is designed on my shirt')\n",
    "      \n"
   ]
  },
  {
   "cell_type": "code",
   "execution_count": 20,
   "metadata": {},
   "outputs": [
    {
     "name": "stdout",
     "output_type": "stream",
     "text": [
      "large is the size of my shirt\n",
      "\n",
      "I love myself is designed on my shirt\n"
     ]
    }
   ],
   "source": [
    "make_shirt('large')"
   ]
  },
  {
   "cell_type": "code",
   "execution_count": 21,
   "metadata": {},
   "outputs": [
    {
     "name": "stdout",
     "output_type": "stream",
     "text": [
      "medium is the size of my shirt\n",
      "\n",
      "I love myself is designed on my shirt\n"
     ]
    }
   ],
   "source": [
    "make_shirt('medium') #calling medium sized shirt  with a default message"
   ]
  },
  {
   "cell_type": "code",
   "execution_count": null,
   "metadata": {},
   "outputs": [],
   "source": [
    "NOW ASSIGNMENT FOR CITIES:------------------->>>>"
   ]
  },
  {
   "cell_type": "code",
   "execution_count": 23,
   "metadata": {},
   "outputs": [],
   "source": [
    "def describe_city(city,country='India'):\n",
    "    \"\"\"Desscribing the different  cities of India\"\"\"\n",
    "    print(city,'is in',country)\n"
   ]
  },
  {
   "cell_type": "code",
   "execution_count": 24,
   "metadata": {},
   "outputs": [
    {
     "name": "stdout",
     "output_type": "stream",
     "text": [
      "Hyderabad is in India\n"
     ]
    }
   ],
   "source": [
    "describe_city('Hyderabad')"
   ]
  },
  {
   "cell_type": "code",
   "execution_count": 25,
   "metadata": {},
   "outputs": [
    {
     "name": "stdout",
     "output_type": "stream",
     "text": [
      "Mumbai is in India\n"
     ]
    }
   ],
   "source": [
    "describe_city('Mumbai')"
   ]
  },
  {
   "cell_type": "code",
   "execution_count": 26,
   "metadata": {},
   "outputs": [
    {
     "name": "stdout",
     "output_type": "stream",
     "text": [
      "Amsterdam is in India\n"
     ]
    }
   ],
   "source": [
    "describe_city('Amsterdam')"
   ]
  },
  {
   "cell_type": "code",
   "execution_count": 29,
   "metadata": {},
   "outputs": [],
   "source": [
    "def describe_city(country,city='Amsterdam'):\n",
    "    print(city,'is in',country)\n"
   ]
  },
  {
   "cell_type": "code",
   "execution_count": 30,
   "metadata": {},
   "outputs": [
    {
     "name": "stdout",
     "output_type": "stream",
     "text": [
      "Amsterdam is in Netherlands\n"
     ]
    }
   ],
   "source": [
    "describe_city('Netherlands')"
   ]
  },
  {
   "cell_type": "code",
   "execution_count": null,
   "metadata": {},
   "outputs": [],
   "source": []
  }
 ],
 "metadata": {
  "kernelspec": {
   "display_name": "Python 3",
   "language": "python",
   "name": "python3"
  },
  "language_info": {
   "codemirror_mode": {
    "name": "ipython",
    "version": 3
   },
   "file_extension": ".py",
   "mimetype": "text/x-python",
   "name": "python",
   "nbconvert_exporter": "python",
   "pygments_lexer": "ipython3",
   "version": "3.7.6"
  }
 },
 "nbformat": 4,
 "nbformat_minor": 4
}
