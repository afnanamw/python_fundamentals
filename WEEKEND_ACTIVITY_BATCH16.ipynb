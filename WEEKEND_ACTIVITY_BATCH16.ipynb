{
 "cells": [
  {
   "cell_type": "code",
   "execution_count": 11,
   "metadata": {},
   "outputs": [],
   "source": [
    "class Restaurant:\n",
    "    \"\"\"Announcing the opening of the restaurant\"\"\"\n",
    "    \n",
    "    def __init__(self,restaurant_name,cuisine_type):\n",
    "        self.restaurant_name=restaurant_name\n",
    "        self.cuisine_type=cuisine_type\n",
    "        print('successfully executed')\n",
    "         \n",
    "    def describe_restaurant(self):\n",
    "        print(f\" Our  restaurant name is {self.restaurant_name} and we serve {self.cuisine_type}\")\n",
    "    \n",
    "    def open_restuarant(self):\n",
    "        print(f\"Our restaurant {self.restaurant_name} is open\")\n",
    "        \n",
    "       \n",
    "        \n",
    "         \n",
    "            \n",
    "            \n",
    "       \n",
    "        \n",
    "        "
   ]
  },
  {
   "cell_type": "code",
   "execution_count": 3,
   "metadata": {},
   "outputs": [
    {
     "name": "stdout",
     "output_type": "stream",
     "text": [
      "successfully executed\n"
     ]
    }
   ],
   "source": [
    "food=Restaurant('seventhstreet','wazwan')"
   ]
  },
  {
   "cell_type": "code",
   "execution_count": 4,
   "metadata": {},
   "outputs": [],
   "source": [
    "food.restaurant='familyrestaurant'"
   ]
  },
  {
   "cell_type": "code",
   "execution_count": 5,
   "metadata": {},
   "outputs": [
    {
     "name": "stdout",
     "output_type": "stream",
     "text": [
      "seventhstreet\n"
     ]
    }
   ],
   "source": [
    "print(food.restaurant_name)"
   ]
  },
  {
   "cell_type": "code",
   "execution_count": 6,
   "metadata": {},
   "outputs": [
    {
     "name": "stdout",
     "output_type": "stream",
     "text": [
      "wazwan\n"
     ]
    }
   ],
   "source": [
    "print(food.cuisine_type)"
   ]
  },
  {
   "cell_type": "code",
   "execution_count": 8,
   "metadata": {},
   "outputs": [
    {
     "name": "stdout",
     "output_type": "stream",
     "text": [
      " Our  restaurant name is seventhstreet and we serve wazwan\n"
     ]
    }
   ],
   "source": [
    "food.describe_restaurant()"
   ]
  },
  {
   "cell_type": "code",
   "execution_count": 10,
   "metadata": {},
   "outputs": [
    {
     "name": "stdout",
     "output_type": "stream",
     "text": [
      "Our restaurant seventhstreet is open\n"
     ]
    }
   ],
   "source": [
    "food.open_restuarant()"
   ]
  },
  {
   "cell_type": "markdown",
   "metadata": {},
   "source": []
  },
  {
   "cell_type": "code",
   "execution_count": null,
   "metadata": {},
   "outputs": [],
   "source": [
    "ACTIVITY 2:"
   ]
  },
  {
   "cell_type": "code",
   "execution_count": 23,
   "metadata": {},
   "outputs": [],
   "source": [
    "class Icecreamstand(Restaurant):\n",
    "    pass\n",
    "   \n",
    "    \n",
    "    \n",
    "    \n",
    "    "
   ]
  },
  {
   "cell_type": "code",
   "execution_count": 38,
   "metadata": {},
   "outputs": [],
   "source": [
    "class Icecreamstand(Restaurant):\n",
    "    \"\"\"List of icecream flavors\"\"\"\n",
    "  \n",
    "    \n",
    "    def icecream(self,flavors):\n",
    "        self.flavors=flavors\n",
    "        \n",
    "    \n",
    "    def flavours(self):\n",
    "        print('butterscotch,vanilla,chocolate,strawberry')\n"
   ]
  },
  {
   "cell_type": "code",
   "execution_count": 43,
   "metadata": {},
   "outputs": [
    {
     "name": "stdout",
     "output_type": "stream",
     "text": [
      "successfully executed\n"
     ]
    }
   ],
   "source": [
    "items=Icecreamstand('flavors','icecreams')\n"
   ]
  },
  {
   "cell_type": "code",
   "execution_count": 44,
   "metadata": {},
   "outputs": [
    {
     "name": "stdout",
     "output_type": "stream",
     "text": [
      "butterscotch,vanilla,chocolate,strawberry\n"
     ]
    }
   ],
   "source": [
    "items.flavours()"
   ]
  },
  {
   "cell_type": "code",
   "execution_count": 45,
   "metadata": {},
   "outputs": [
    {
     "name": "stdout",
     "output_type": "stream",
     "text": [
      " Our  restaurant name is flavors and we serve icecreams\n"
     ]
    }
   ],
   "source": [
    "items.describe_restaurant()"
   ]
  },
  {
   "cell_type": "code",
   "execution_count": null,
   "metadata": {},
   "outputs": [],
   "source": []
  }
 ],
 "metadata": {
  "kernelspec": {
   "display_name": "Python 3",
   "language": "python",
   "name": "python3"
  },
  "language_info": {
   "codemirror_mode": {
    "name": "ipython",
    "version": 3
   },
   "file_extension": ".py",
   "mimetype": "text/x-python",
   "name": "python",
   "nbconvert_exporter": "python",
   "pygments_lexer": "ipython3",
   "version": "3.7.6"
  }
 },
 "nbformat": 4,
 "nbformat_minor": 4
}
