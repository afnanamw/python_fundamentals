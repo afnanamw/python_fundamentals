{
 "cells": [
  {
   "cell_type": "code",
   "execution_count": null,
   "metadata": {},
   "outputs": [],
   "source": [
    "Introduction to while loop:\n",
    "    \n",
    "Dependent on the occurence of the scenario    \n"
   ]
  },
  {
   "cell_type": "code",
   "execution_count": 1,
   "metadata": {},
   "outputs": [
    {
     "name": "stdout",
     "output_type": "stream",
     "text": [
      "1\n",
      "2\n",
      "3\n",
      "4\n",
      "5\n"
     ]
    }
   ],
   "source": [
    "currentnumber=1\n",
    "\n",
    "while currentnumber<=5:  #certain condition gets satisfied\n",
    "    \n",
    "    print(currentnumber)\n",
    "    \n",
    "    currentnumber+=1  # a=a+1\n",
    "    "
   ]
  },
  {
   "cell_type": "code",
   "execution_count": 2,
   "metadata": {},
   "outputs": [
    {
     "name": "stdout",
     "output_type": "stream",
     "text": [
      "\n",
      "Tell me something and i  will repeat:\n",
      "Enter 'quit' to  end the programzaid\n",
      "zaid\n",
      "\n",
      "Tell me something and i  will repeat:\n",
      "Enter 'quit' to  end the programkutte\n",
      "kutte\n",
      "\n",
      "Tell me something and i  will repeat:\n",
      "Enter 'quit' to  end the programxyz\n",
      "xyz\n",
      "\n",
      "Tell me something and i  will repeat:\n",
      "Enter 'quit' to  end the programzainab\n",
      "zainab\n",
      "\n",
      "Tell me something and i  will repeat:\n",
      "Enter 'quit' to  end the programquit\n",
      "quit\n"
     ]
    }
   ],
   "source": [
    "prompt= \"\\nTell me something and i  will repeat:\"\n",
    "\n",
    "\n",
    "prompt+=\"\\nEnter 'quit' to  end the program\"\n",
    "\n",
    "\n",
    "message=' '\n",
    "\n",
    "while message != 'quit':\n",
    "    \n",
    "    message=input(prompt)\n",
    "    \n",
    "    print(message)\n",
    "\n",
    "\n",
    "\n",
    "\n",
    "\n",
    "\n"
   ]
  },
  {
   "cell_type": "code",
   "execution_count": null,
   "metadata": {},
   "outputs": [],
   "source": [
    "Introduction to python functions:\n",
    "-------->code reusibility\n",
    "commenting inside a fuction is doc string."
   ]
  },
  {
   "cell_type": "code",
   "execution_count": null,
   "metadata": {},
   "outputs": [],
   "source": [
    "Req:Function needs to  greet an user:"
   ]
  },
  {
   "cell_type": "code",
   "execution_count": 3,
   "metadata": {},
   "outputs": [],
   "source": [
    "def greet_user():  #defining a function\n",
    "    \n",
    "    \"\"\" Display a simple greeting \"\"\"\n",
    "    \n",
    "    print('hello')\n",
    "   \n",
    "    \n",
    "    "
   ]
  },
  {
   "cell_type": "code",
   "execution_count": 5,
   "metadata": {},
   "outputs": [
    {
     "name": "stdout",
     "output_type": "stream",
     "text": [
      "hello\n"
     ]
    }
   ],
   "source": [
    "greet_user()  # calling a function.This is code resusability"
   ]
  },
  {
   "cell_type": "code",
   "execution_count": 11,
   "metadata": {},
   "outputs": [],
   "source": [
    "def greet_user(username):  #parameter passing\n",
    "    \n",
    "    \"\"\"Display a simple greeting message to the user\"\"\"\n",
    "    \n",
    "    print(f\" Hello good to have you  again {username.title()}\")\n",
    "    \n",
    "    \n",
    "  \n",
    "    \n",
    "    "
   ]
  },
  {
   "cell_type": "code",
   "execution_count": 12,
   "metadata": {},
   "outputs": [
    {
     "name": "stdout",
     "output_type": "stream",
     "text": [
      " Hello good to have you  again Afnan\n"
     ]
    }
   ],
   "source": [
    "  greet_user ('afnan') #passing arguments"
   ]
  },
  {
   "cell_type": "code",
   "execution_count": null,
   "metadata": {},
   "outputs": [],
   "source": []
  }
 ],
 "metadata": {
  "kernelspec": {
   "display_name": "Python 3",
   "language": "python",
   "name": "python3"
  },
  "language_info": {
   "codemirror_mode": {
    "name": "ipython",
    "version": 3
   },
   "file_extension": ".py",
   "mimetype": "text/x-python",
   "name": "python",
   "nbconvert_exporter": "python",
   "pygments_lexer": "ipython3",
   "version": "3.7.6"
  }
 },
 "nbformat": 4,
 "nbformat_minor": 4
}
