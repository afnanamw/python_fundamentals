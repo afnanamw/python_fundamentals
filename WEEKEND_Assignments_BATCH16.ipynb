{
 "cells": [
  {
   "cell_type": "code",
   "execution_count": 3,
   "metadata": {},
   "outputs": [],
   "source": [
    "class Restaurant:\n",
    "    \"\"\"Announcing the opening of the restaurant\"\"\"\n",
    "    \n",
    "    def __init__(self,restaurant_name,cuisine_type):\n",
    "        self.restaurant_name=restaurant_name\n",
    "        self.cuisine_type=cuisine_type\n",
    "        print('successfully executed')\n",
    "         \n",
    "    def describe_restaurant(self):\n",
    "        print(f\" Our  restaurant name is {self.restaurant_name} and we serve {self.cuisine_type}\")\n",
    "    \n",
    "    def open_restuarant(self):\n",
    "        print(f\"Our restaurant {self.restaurant_name} is open\")\n",
    "        \n",
    "       \n",
    "        \n",
    "         \n",
    "            \n",
    "            \n",
    "       \n",
    "        \n",
    "        "
   ]
  },
  {
   "cell_type": "code",
   "execution_count": 4,
   "metadata": {},
   "outputs": [
    {
     "name": "stdout",
     "output_type": "stream",
     "text": [
      "successfully executed\n"
     ]
    }
   ],
   "source": [
    "food=Restaurant('seventhstreet','wazwan')"
   ]
  },
  {
   "cell_type": "code",
   "execution_count": 5,
   "metadata": {},
   "outputs": [],
   "source": [
    "food.restaurant='familyrestaurant'"
   ]
  },
  {
   "cell_type": "code",
   "execution_count": 6,
   "metadata": {},
   "outputs": [
    {
     "name": "stdout",
     "output_type": "stream",
     "text": [
      "seventhstreet\n"
     ]
    }
   ],
   "source": [
    "print(food.restaurant_name)"
   ]
  },
  {
   "cell_type": "code",
   "execution_count": 7,
   "metadata": {},
   "outputs": [
    {
     "name": "stdout",
     "output_type": "stream",
     "text": [
      "wazwan\n"
     ]
    }
   ],
   "source": [
    "print(food.cuisine_type)"
   ]
  },
  {
   "cell_type": "code",
   "execution_count": 8,
   "metadata": {},
   "outputs": [
    {
     "name": "stdout",
     "output_type": "stream",
     "text": [
      " Our  restaurant name is seventhstreet and we serve wazwan\n"
     ]
    }
   ],
   "source": [
    "food.describe_restaurant()"
   ]
  },
  {
   "cell_type": "code",
   "execution_count": 9,
   "metadata": {},
   "outputs": [
    {
     "name": "stdout",
     "output_type": "stream",
     "text": [
      "Our restaurant seventhstreet is open\n"
     ]
    }
   ],
   "source": [
    "food.open_restuarant()"
   ]
  },
  {
   "cell_type": "markdown",
   "metadata": {},
   "source": []
  },
  {
   "cell_type": "code",
   "execution_count": 10,
   "metadata": {},
   "outputs": [
    {
     "ename": "SyntaxError",
     "evalue": "invalid syntax (<ipython-input-10-d942a6fc59b2>, line 1)",
     "output_type": "error",
     "traceback": [
      "\u001b[1;36m  File \u001b[1;32m\"<ipython-input-10-d942a6fc59b2>\"\u001b[1;36m, line \u001b[1;32m1\u001b[0m\n\u001b[1;33m    ACTIVITY 2:\u001b[0m\n\u001b[1;37m             ^\u001b[0m\n\u001b[1;31mSyntaxError\u001b[0m\u001b[1;31m:\u001b[0m invalid syntax\n"
     ]
    }
   ],
   "source": [
    "ACTIVITY 2:"
   ]
  },
  {
   "cell_type": "code",
   "execution_count": 11,
   "metadata": {},
   "outputs": [],
   "source": [
    "class IceCreamStand(Restaurant):\n",
    "    \n",
    "    def __init__(self,*flavors):\n",
    "       \n",
    "        self.flavors=flavors\n",
    "        \n",
    "    def flavor_list(self):         \n",
    "      \n",
    "        print(f\" List of flavors available :\\n\")\n",
    "        \n",
    "        for flv in self.flavors:\n",
    "        \n",
    "            print(f\" --- {flv}\")"
   ]
  },
  {
   "cell_type": "code",
   "execution_count": 13,
   "metadata": {},
   "outputs": [],
   "source": [
    "icecream=IceCreamStand('vanilla','mango','pista','strawberry','chocolate')"
   ]
  },
  {
   "cell_type": "code",
   "execution_count": 14,
   "metadata": {},
   "outputs": [
    {
     "name": "stdout",
     "output_type": "stream",
     "text": [
      " List of flavors available :\n",
      "\n",
      " --- vanilla\n",
      " --- mango\n",
      " --- pista\n",
      " --- strawberry\n",
      " --- chocolate\n"
     ]
    }
   ],
   "source": [
    "icecream.flavor_list()"
   ]
  },
  {
   "cell_type": "code",
   "execution_count": null,
   "metadata": {},
   "outputs": [],
   "source": []
  }
 ],
 "metadata": {
  "kernelspec": {
   "display_name": "Python 3",
   "language": "python",
   "name": "python3"
  },
  "language_info": {
   "codemirror_mode": {
    "name": "ipython",
    "version": 3
   },
   "file_extension": ".py",
   "mimetype": "text/x-python",
   "name": "python",
   "nbconvert_exporter": "python",
   "pygments_lexer": "ipython3",
   "version": "3.7.6"
  }
 },
 "nbformat": 4,
 "nbformat_minor": 4
}
