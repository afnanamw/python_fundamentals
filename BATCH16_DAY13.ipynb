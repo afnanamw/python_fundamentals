{
 "cells": [
  {
   "cell_type": "code",
   "execution_count": null,
   "metadata": {},
   "outputs": [],
   "source": [
    "CONTINUATION TO FUNCTIONS:"
   ]
  },
  {
   "cell_type": "code",
   "execution_count": null,
   "metadata": {},
   "outputs": [],
   "source": [
    "TYPES OF ARGUMENTS:"
   ]
  },
  {
   "cell_type": "code",
   "execution_count": 12,
   "metadata": {},
   "outputs": [],
   "source": [
    "def describe_pet(animaltype,animalname):\n",
    "    \n",
    "    \"\"\"To display animal type and pet  name\"\"\" #this is called doc-string\n",
    "    \n",
    "    \n",
    "    print(f\"I have a {animaltype}\")\n",
    "    \n",
    "    \n",
    "    \n",
    "    print(f\"\\nMy {animaltype} name is {animalname}\")\n",
    "    \n",
    "    \n",
    "    \n",
    "    "
   ]
  },
  {
   "cell_type": "code",
   "execution_count": 13,
   "metadata": {},
   "outputs": [
    {
     "name": "stdout",
     "output_type": "stream",
     "text": [
      "I have a parrot\n",
      "\n",
      "My parrot name is mithu\n"
     ]
    }
   ],
   "source": [
    " describe_pet('parrot','mithu')"
   ]
  },
  {
   "cell_type": "code",
   "execution_count": null,
   "metadata": {},
   "outputs": [],
   "source": []
  },
  {
   "cell_type": "code",
   "execution_count": 15,
   "metadata": {},
   "outputs": [
    {
     "name": "stdout",
     "output_type": "stream",
     "text": [
      "I have a cat\n",
      "\n",
      "My cat name is rocky\n"
     ]
    }
   ],
   "source": [
    "describe_pet(animaltype='cat',animalname='rocky') #modifying parameters\n"
   ]
  },
  {
   "cell_type": "code",
   "execution_count": 22,
   "metadata": {},
   "outputs": [
    {
     "name": "stdout",
     "output_type": "stream",
     "text": [
      "I have a parrot\n",
      "\n",
      "My parrot name is tommy\n"
     ]
    }
   ],
   "source": [
    "describe_pet(animaltype='parrot',animalname='tommy')"
   ]
  },
  {
   "cell_type": "code",
   "execution_count": 23,
   "metadata": {},
   "outputs": [
    {
     "name": "stdout",
     "output_type": "stream",
     "text": [
      "I have a parrot\n",
      "\n",
      "My parrot name is monu\n"
     ]
    }
   ],
   "source": [
    "describe_pet(animalname='monu',animaltype='parrot') # 1. Postional argumentdescr"
   ]
  },
  {
   "cell_type": "code",
   "execution_count": 28,
   "metadata": {},
   "outputs": [],
   "source": [
    "def describe_pet(animalname,animaltype='dog'):\n",
    "    \n",
    "    \n",
    "\n",
    "    \"\"\"To display petname and animaltype\"\"\"\n",
    "    \n",
    "    print(f\"I have a {animaltype}\")\n",
    "    \n",
    "    print(f\"\\nMy {animaltype} name is {animalname}\")\n",
    "          \n",
    "          \n",
    "         \n",
    "\n"
   ]
  },
  {
   "cell_type": "code",
   "execution_count": 29,
   "metadata": {},
   "outputs": [
    {
     "name": "stdout",
     "output_type": "stream",
     "text": [
      "I have a dog\n",
      "\n",
      "My dog name is rex\n"
     ]
    }
   ],
   "source": [
    "describe_pet('rex') # 2.keyword argument"
   ]
  },
  {
   "cell_type": "code",
   "execution_count": 30,
   "metadata": {},
   "outputs": [
    {
     "name": "stdout",
     "output_type": "stream",
     "text": [
      "I have a dog\n",
      "\n",
      "My dog name is fiffy\n"
     ]
    }
   ],
   "source": [
    "describe_pet('fiffy','dog')  #3.Default argument"
   ]
  },
  {
   "cell_type": "code",
   "execution_count": null,
   "metadata": {},
   "outputs": [],
   "source": []
  }
 ],
 "metadata": {
  "kernelspec": {
   "display_name": "Python 3",
   "language": "python",
   "name": "python3"
  },
  "language_info": {
   "codemirror_mode": {
    "name": "ipython",
    "version": 3
   },
   "file_extension": ".py",
   "mimetype": "text/x-python",
   "name": "python",
   "nbconvert_exporter": "python",
   "pygments_lexer": "ipython3",
   "version": "3.7.6"
  }
 },
 "nbformat": 4,
 "nbformat_minor": 4
}
