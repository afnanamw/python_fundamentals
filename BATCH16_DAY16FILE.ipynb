{
 "cells": [
  {
   "cell_type": "code",
   "execution_count": 21,
   "metadata": {},
   "outputs": [],
   "source": [
    "class Teachers:\n",
    "    \"\"\"Teachers describing their role in school\"\"\"\n",
    "    \n",
    "    def __init__(self,subject,number):\n",
    "        self.subject=subject\n",
    "        self.number=number\n",
    "        print('It was successfully done')\n",
    "        \n",
    "    def department(self):\n",
    "        print(f\"I am mosh hamedani,i teach {self.number} departments here in havard university\")\n",
    "        \n",
    "    def role(self):\n",
    "        print(f\" I  teach {self.subject}\")\n",
    "    \n",
    "    \n",
    "    "
   ]
  },
  {
   "cell_type": "code",
   "execution_count": 22,
   "metadata": {},
   "outputs": [
    {
     "name": "stdout",
     "output_type": "stream",
     "text": [
      "It was successfully done\n"
     ]
    }
   ],
   "source": [
    "youobj=Teachers('psychology',2)"
   ]
  },
  {
   "cell_type": "code",
   "execution_count": 23,
   "metadata": {},
   "outputs": [
    {
     "name": "stdout",
     "output_type": "stream",
     "text": [
      "I am mosh hamedani,i teach 2 departments here in havard university\n"
     ]
    }
   ],
   "source": [
    "youobj.department()"
   ]
  },
  {
   "cell_type": "code",
   "execution_count": 24,
   "metadata": {},
   "outputs": [
    {
     "name": "stdout",
     "output_type": "stream",
     "text": [
      " I  teach psychology\n"
     ]
    }
   ],
   "source": [
    "youobj.role()"
   ]
  },
  {
   "cell_type": "code",
   "execution_count": null,
   "metadata": {},
   "outputs": [],
   "source": []
  }
 ],
 "metadata": {
  "kernelspec": {
   "display_name": "Python 3",
   "language": "python",
   "name": "python3"
  },
  "language_info": {
   "codemirror_mode": {
    "name": "ipython",
    "version": 3
   },
   "file_extension": ".py",
   "mimetype": "text/x-python",
   "name": "python",
   "nbconvert_exporter": "python",
   "pygments_lexer": "ipython3",
   "version": "3.7.6"
  }
 },
 "nbformat": 4,
 "nbformat_minor": 4
}
