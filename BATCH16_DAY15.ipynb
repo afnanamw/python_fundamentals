{
 "cells": [
  {
   "cell_type": "code",
   "execution_count": null,
   "metadata": {},
   "outputs": [],
   "source": [
    "INTRODUCTION TO  CLASSES:\n",
    "    \n",
    "Class:nothing but a blueprint of the program\n",
    "    \n",
    "Method:Functions written inside the class are called methods\n",
    "    \n",
    "Attribute:A variable written inside a class is called a attribute.\n",
    "    \n",
    "Object:IT is used to access a method in a class.\n",
    "    \n",
    "Self to keyword:A self is nothing but a temporary place holder for an object.. \n"
   ]
  },
  {
   "cell_type": "code",
   "execution_count": null,
   "metadata": {},
   "outputs": [],
   "source": [
    "Req: CASE STUDY\n",
    "    \n",
    "    1.Take the name from the user.\n",
    "    input-----> method creation.\n",
    "    \n",
    "    2.Display the username--->method\n",
    "    \n",
    "    3.Greeting the user---->method\n",
    "    \n",
    "    Example we ll take Amazon.in"
   ]
  },
  {
   "cell_type": "code",
   "execution_count": 9,
   "metadata": {},
   "outputs": [],
   "source": [
    "class test:#creating the classname\n",
    "    \n",
    "    \"\"\"Designing a program to the log in page\"\"\"  #doc-string\n",
    "    \n",
    "    \n",
    "    def createname(self,name):\n",
    "        \n",
    "        \n",
    "        self.name=name\n",
    "        \n",
    "    def displayname(self):\n",
    "        \n",
    "        return self.name\n",
    "    \n",
    "    def greetuser(self):\n",
    "        \n",
    "        print(f\"Welcome back to amazon,good to have you again {self.name}\")\n",
    "              \n",
    "        \n",
    "        \n",
    "        \n",
    "        \n",
    "    \n",
    "    \n"
   ]
  },
  {
   "cell_type": "code",
   "execution_count": 5,
   "metadata": {},
   "outputs": [],
   "source": [
    "xyz=test() #assigning a object to a class "
   ]
  },
  {
   "cell_type": "code",
   "execution_count": 6,
   "metadata": {},
   "outputs": [],
   "source": [
    "xyz.createname('Afnan wani') #first method access"
   ]
  },
  {
   "cell_type": "code",
   "execution_count": 10,
   "metadata": {},
   "outputs": [
    {
     "data": {
      "text/plain": [
       "'Afnan wani'"
      ]
     },
     "execution_count": 10,
     "metadata": {},
     "output_type": "execute_result"
    }
   ],
   "source": [
    "xyz.displayname() #2nd method"
   ]
  },
  {
   "cell_type": "code",
   "execution_count": 12,
   "metadata": {},
   "outputs": [
    {
     "name": "stdout",
     "output_type": "stream",
     "text": [
      "Welcome back to amazon,good to have you again Afnan wani\n"
     ]
    }
   ],
   "source": [
    "xyz.greetuser() #3rd method access"
   ]
  },
  {
   "cell_type": "code",
   "execution_count": 13,
   "metadata": {},
   "outputs": [],
   "source": [
    "joeparys=test()"
   ]
  },
  {
   "cell_type": "code",
   "execution_count": 15,
   "metadata": {},
   "outputs": [],
   "source": [
    "joeparys.createname('rashi')"
   ]
  },
  {
   "cell_type": "code",
   "execution_count": 16,
   "metadata": {},
   "outputs": [
    {
     "name": "stdout",
     "output_type": "stream",
     "text": [
      "Welcome back to amazon,good to have you again rashi\n"
     ]
    }
   ],
   "source": [
    "joeparys.greetuser()"
   ]
  },
  {
   "cell_type": "code",
   "execution_count": 17,
   "metadata": {},
   "outputs": [
    {
     "data": {
      "text/plain": [
       "'rashi'"
      ]
     },
     "execution_count": 17,
     "metadata": {},
     "output_type": "execute_result"
    }
   ],
   "source": [
    "joeparys.displayname()"
   ]
  },
  {
   "cell_type": "code",
   "execution_count": null,
   "metadata": {},
   "outputs": [],
   "source": []
  }
 ],
 "metadata": {
  "kernelspec": {
   "display_name": "Python 3",
   "language": "python",
   "name": "python3"
  },
  "language_info": {
   "codemirror_mode": {
    "name": "ipython",
    "version": 3
   },
   "file_extension": ".py",
   "mimetype": "text/x-python",
   "name": "python",
   "nbconvert_exporter": "python",
   "pygments_lexer": "ipython3",
   "version": "3.7.6"
  }
 },
 "nbformat": 4,
 "nbformat_minor": 4
}
