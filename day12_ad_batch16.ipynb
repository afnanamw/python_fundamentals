{
 "cells": [
  {
   "cell_type": "code",
   "execution_count": null,
   "metadata": {},
   "outputs": [],
   "source": [
    "DATA FRAMES: MOST USED DATATYPE"
   ]
  },
  {
   "cell_type": "code",
   "execution_count": 2,
   "metadata": {},
   "outputs": [],
   "source": [
    "import numpy as np\n",
    "import pandas as pd"
   ]
  },
  {
   "cell_type": "code",
   "execution_count": null,
   "metadata": {},
   "outputs": [],
   "source": [
    "General  syntax of data frames:\n",
    "    \n",
    "Pandas.DataFrame(data,index,column,dtype,copy)\n",
    "\n"
   ]
  },
  {
   "cell_type": "code",
   "execution_count": null,
   "metadata": {},
   "outputs": [],
   "source": [
    "CREATING AN  EMPTY  DATAFRAME:"
   ]
  },
  {
   "cell_type": "code",
   "execution_count": 3,
   "metadata": {},
   "outputs": [
    {
     "name": "stdout",
     "output_type": "stream",
     "text": [
      "Empty DataFrame\n",
      "Columns: []\n",
      "Index: []\n"
     ]
    }
   ],
   "source": [
    "df=pd.DataFrame()\n",
    "print(df)"
   ]
  },
  {
   "cell_type": "code",
   "execution_count": 4,
   "metadata": {},
   "outputs": [
    {
     "name": "stdout",
     "output_type": "stream",
     "text": [
      "        0\n",
      "0     gul\n",
      "1    kaak\n",
      "2  farooq\n",
      "3   jasir\n"
     ]
    }
   ],
   "source": [
    "data=['gul','kaak','farooq','jasir']\n",
    "df=pd.DataFrame(data)\n",
    "print(df)"
   ]
  },
  {
   "cell_type": "code",
   "execution_count": 12,
   "metadata": {},
   "outputs": [
    {
     "name": "stdout",
     "output_type": "stream",
     "text": [
      "    Name  Marks\n",
      "0  uruss     71\n",
      "1  afnan     43\n",
      "2  tasir     22\n"
     ]
    }
   ],
   "source": [
    "data=[['uruss',71],['afnan',43],['tasir',22]]\n",
    "df=pd.DataFrame(data,columns=['Name','Marks'])\n",
    "print(df)"
   ]
  },
  {
   "cell_type": "code",
   "execution_count": 11,
   "metadata": {},
   "outputs": [
    {
     "name": "stdout",
     "output_type": "stream",
     "text": [
      "     name  age\n",
      "0   afnan   12\n",
      "1     ram   13\n",
      "2  lakhan   14\n",
      "3    zaid   15\n"
     ]
    }
   ],
   "source": [
    "data={'name':['afnan','ram','lakhan','zaid'],'age':[12,13,14,15]}\n",
    "df=pd.DataFrame(data)\n",
    "print(df)"
   ]
  },
  {
   "cell_type": "code",
   "execution_count": 16,
   "metadata": {},
   "outputs": [
    {
     "name": "stdout",
     "output_type": "stream",
     "text": [
      "    Name  Marks\n",
      "0  uruss   71.0\n",
      "1  afnan   12.0\n",
      "2  tasir   22.0\n"
     ]
    }
   ],
   "source": [
    "data=[['uruss',71],['afnan',12],['tasir',22]]\n",
    "df=pd.DataFrame(data,columns=['Name','Marks'],dtype=float)\n",
    "print(df)"
   ]
  },
  {
   "cell_type": "code",
   "execution_count": 18,
   "metadata": {},
   "outputs": [
    {
     "name": "stdout",
     "output_type": "stream",
     "text": [
      "        Name  Marks\n",
      "rank1  uruss   71.0\n",
      "rank2  afnan   43.0\n",
      "rank3  tasir   22.0\n"
     ]
    }
   ],
   "source": [
    "data=[['uruss',71],['afnan',43],['tasir',22]]\n",
    "df=pd.DataFrame(data,columns=['Name','Marks'],dtype=float,index=['rank1','rank2','rank3'])\n",
    "print(df)"
   ]
  },
  {
   "cell_type": "code",
   "execution_count": null,
   "metadata": {},
   "outputs": [],
   "source": []
  },
  {
   "cell_type": "code",
   "execution_count": null,
   "metadata": {},
   "outputs": [],
   "source": []
  }
 ],
 "metadata": {
  "kernelspec": {
   "display_name": "Python 3",
   "language": "python",
   "name": "python3"
  },
  "language_info": {
   "codemirror_mode": {
    "name": "ipython",
    "version": 3
   },
   "file_extension": ".py",
   "mimetype": "text/x-python",
   "name": "python",
   "nbconvert_exporter": "python",
   "pygments_lexer": "ipython3",
   "version": "3.7.6"
  }
 },
 "nbformat": 4,
 "nbformat_minor": 4
}
